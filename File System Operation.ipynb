{
 "cells": [
  {
   "cell_type": "code",
   "execution_count": 2,
   "id": "a87fd94f",
   "metadata": {},
   "outputs": [],
   "source": [
    "import os\n",
    "import shutil"
   ]
  },
  {
   "cell_type": "markdown",
   "id": "2b6dc54f",
   "metadata": {},
   "source": [
    "###  - Create a new directory."
   ]
  },
  {
   "cell_type": "code",
   "execution_count": 4,
   "id": "4497be45",
   "metadata": {},
   "outputs": [
    {
     "name": "stdout",
     "output_type": "stream",
     "text": [
      "Directory 'MyNewDirectory' Create Sucessfully!\n"
     ]
    }
   ],
   "source": [
    "new_dir=\"MyNewDirectory\"\n",
    "os.makedirs(new_dir,exist_ok=True)\n",
    "print(f\"Directory '{new_dir}' Create Sucessfully!\")"
   ]
  },
  {
   "cell_type": "markdown",
   "id": "28cd752c",
   "metadata": {},
   "source": [
    "###  - List all files and directories in the current working directory."
   ]
  },
  {
   "cell_type": "code",
   "execution_count": 5,
   "id": "5e27da08",
   "metadata": {},
   "outputs": [
    {
     "name": "stdout",
     "output_type": "stream",
     "text": [
      "\n",
      "current Directory Files and Folders:\n",
      "['.ipynb_checkpoints', 'Beautyfulsoap abd selenium web scrapping.ipynb', 'break and continu.ipynb', 'Data cleaning.ipynb', 'File operation in python.ipynb', 'File System Operation.ipynb', 'first program.ipynb', 'first txt', 'function.ipynb', 'if else.ipynb', 'imdb_top_1000.csv', 'list.ipynb', 'loop.ipynb', 'MyNewDirectory', 'Numpy-II.ipynb', 'numpy.ipynb', 'practice...ipynb', 'STRING.ipynb', 'Web Scraping.ipynb']\n"
     ]
    }
   ],
   "source": [
    "print(\"\\ncurrent Directory Files and Folders:\")\n",
    "print(os.listdir(\".\"))"
   ]
  },
  {
   "cell_type": "markdown",
   "id": "e2598064",
   "metadata": {},
   "source": [
    "###  Create a new text file within the newly created directory and write some content to it.\n"
   ]
  },
  {
   "cell_type": "code",
   "execution_count": 7,
   "id": "4ede127f",
   "metadata": {},
   "outputs": [
    {
     "name": "stdout",
     "output_type": "stream",
     "text": [
      "\n",
      "File 'MyNewDirectory\\myfile.txt' created and content written!\n"
     ]
    }
   ],
   "source": [
    "file_path=os.path.join(new_dir,\"myfile.txt\")\n",
    "with open(file_path,\"w\") as f:\n",
    "    f.write(\"Hello, this is a test file inside MyNewDirectory.\")\n",
    "print(f\"\\nFile '{file_path}' created and content written!\")"
   ]
  },
  {
   "cell_type": "markdown",
   "id": "5ab6b5fa",
   "metadata": {},
   "source": [
    "###  Read the content of the newly created text file."
   ]
  },
  {
   "cell_type": "code",
   "execution_count": 8,
   "id": "ca6bf3da",
   "metadata": {},
   "outputs": [
    {
     "name": "stdout",
     "output_type": "stream",
     "text": [
      "\n",
      "Content of 'MyNewDirectory\\myfile.txt':\n",
      "Hello, this is a test file inside MyNewDirectory.\n"
     ]
    }
   ],
   "source": [
    "with open(file_path,\"r\") as f:\n",
    "    content=f.read()\n",
    "print(f\"\\nContent of '{file_path}':\\n{content}\")"
   ]
  },
  {
   "cell_type": "markdown",
   "id": "92413a22",
   "metadata": {},
   "source": [
    "### Rename the text file"
   ]
  },
  {
   "cell_type": "code",
   "execution_count": 9,
   "id": "a15a987c",
   "metadata": {},
   "outputs": [
    {
     "name": "stdout",
     "output_type": "stream",
     "text": [
      "\n",
      "File renamed to 'MyNewDirectory\\renamed_file.txt'\n"
     ]
    }
   ],
   "source": [
    "new_file_path = os.path.join(new_dir, \"renamed_file.txt\") \n",
    "os.rename(file_path, new_file_path)  \n",
    "print(f\"\\nFile renamed to '{new_file_path}'\")\n"
   ]
  },
  {
   "cell_type": "markdown",
   "id": "10017df9",
   "metadata": {},
   "source": [
    "### List all files and directories in the new directory after renaming the file."
   ]
  },
  {
   "cell_type": "code",
   "execution_count": 10,
   "id": "c1fb1a44",
   "metadata": {},
   "outputs": [
    {
     "name": "stdout",
     "output_type": "stream",
     "text": [
      "\n",
      "Files in 'MyNewDirectory' after renaming:\n",
      "['renamed_file.txt']\n"
     ]
    }
   ],
   "source": [
    "print(f\"\\nFiles in '{new_dir}' after renaming:\")\n",
    "print(os.listdir(new_dir))\n"
   ]
  },
  {
   "cell_type": "markdown",
   "id": "6cd8cec1",
   "metadata": {},
   "source": [
    "### Delete the new directory and its contents. "
   ]
  },
  {
   "cell_type": "code",
   "execution_count": 11,
   "id": "5c08316e",
   "metadata": {},
   "outputs": [
    {
     "name": "stdout",
     "output_type": "stream",
     "text": [
      "\n",
      "Directory 'MyNewDirectory' and its contents deleted successfully!\n"
     ]
    }
   ],
   "source": [
    "shutil.rmtree(new_dir)\n",
    "print(f\"\\nDirectory '{new_dir}' and its contents deleted successfully!\")\n"
   ]
  },
  {
   "cell_type": "code",
   "execution_count": null,
   "id": "1f36e20d",
   "metadata": {},
   "outputs": [],
   "source": []
  }
 ],
 "metadata": {
  "kernelspec": {
   "display_name": "Python 3 (ipykernel)",
   "language": "python",
   "name": "python3"
  },
  "language_info": {
   "codemirror_mode": {
    "name": "ipython",
    "version": 3
   },
   "file_extension": ".py",
   "mimetype": "text/x-python",
   "name": "python",
   "nbconvert_exporter": "python",
   "pygments_lexer": "ipython3",
   "version": "3.9.12"
  }
 },
 "nbformat": 4,
 "nbformat_minor": 5
}
