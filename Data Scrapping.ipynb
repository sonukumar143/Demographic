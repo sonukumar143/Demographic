{
 "cells": [
  {
   "cell_type": "code",
   "execution_count": 10,
   "id": "6af23fe0",
   "metadata": {},
   "outputs": [
    {
     "name": "stdout",
     "output_type": "stream",
     "text": [
      "✅ IMDb Data successfully scraped and saved as imdb_movies.csv\n",
      "Empty DataFrame\n",
      "Columns: [Movie, Cast]\n",
      "Index: []\n"
     ]
    }
   ],
   "source": [
    "import requests\n",
    "from bs4 import BeautifulSoup\n",
    "import pandas as pd\n",
    "\n",
    "\n",
    "url = \"https://www.imdb.com/list/ls068082370/\" \n",
    "headers = {\"User-Agent\": \"Mozilla/5.0\"}\n",
    "\n",
    "\n",
    "response = requests.get(url, headers=headers)\n",
    "soup = BeautifulSoup(response.text, 'html.parser')\n",
    "\n",
    "movies = []\n",
    "casts = []\n",
    "\n",
    "\n",
    "for item in soup.select(\".lister-item\"):  \n",
    "    movie = item.select_one(\".lister-item-header a\") \n",
    "    cast = item.select_one(\".text-small\") \n",
    "\n",
    "    movies.append(movie.text.strip() if movie else \"N/A\")\n",
    "    casts.append(cast.text.strip() if cast else \"N/A\")\n",
    "\n",
    "# Save to CSV\n",
    "df = pd.DataFrame({\"Movie\": movies, \"Cast\": casts})\n",
    "df.to_csv(\"imdb_movies.csv\", index=False)\n",
    "\n",
    "print(\"✅ IMDb Data successfully scraped and saved as imdb_movies.csv\")\n",
    "print(df.head())\n"
   ]
  },
  {
   "cell_type": "code",
   "execution_count": 11,
   "id": "c30e2f83",
   "metadata": {},
   "outputs": [
    {
     "name": "stdout",
     "output_type": "stream",
     "text": [
      "✅ Wikipedia Data successfully scraped and saved as us_states_population.csv\n",
      "  State    Population\n",
      "0    AL    Huntsville\n",
      "1    AK     Anchorage\n",
      "2    AZ  Feb 14, 1912\n",
      "3    AR  Jun 15, 1836\n",
      "4    CA   Los Angeles\n"
     ]
    }
   ],
   "source": [
    "import requests\n",
    "from bs4 import BeautifulSoup\n",
    "import pandas as pd\n",
    "\n",
    "\n",
    "url = \"https://en.wikipedia.org/wiki/List_of_states_and_territories_of_the_United_States\"\n",
    "headers = {\"User-Agent\": \"Mozilla/5.0\"}\n",
    "\n",
    "\n",
    "response = requests.get(url, headers=headers)\n",
    "soup = BeautifulSoup(response.text, 'html.parser')\n",
    "\n",
    "\n",
    "tables = soup.find_all(\"table\", {\"class\": \"wikitable\"})\n",
    "table = tables[0]  \n",
    "\n",
    "states = []\n",
    "populations = []\n",
    "\n",
    "\n",
    "for row in table.find_all(\"tr\")[2:]:  \n",
    "    cols = row.find_all(\"td\")\n",
    "    if len(cols) >= 3:  # Ensuring valid row\n",
    "        state = cols[0].text.strip() \n",
    "        population = cols[2].text.strip().split(\"[\")[0]  # Removing references\n",
    "        states.append(state)\n",
    "        populations.append(population)\n",
    "\n",
    "# Save to CSV\n",
    "df = pd.DataFrame({\"State\": states, \"Population\": populations})\n",
    "df.to_csv(\"us_states_population.csv\", index=False)\n",
    "\n",
    "print(\"✅ Wikipedia Data successfully scraped and saved as us_states_population.csv\")\n",
    "print(df.head()) \n"
   ]
  },
  {
   "cell_type": "code",
   "execution_count": null,
   "id": "5f72a5dd",
   "metadata": {},
   "outputs": [],
   "source": []
  }
 ],
 "metadata": {
  "kernelspec": {
   "display_name": "Python 3 (ipykernel)",
   "language": "python",
   "name": "python3"
  },
  "language_info": {
   "codemirror_mode": {
    "name": "ipython",
    "version": 3
   },
   "file_extension": ".py",
   "mimetype": "text/x-python",
   "name": "python",
   "nbconvert_exporter": "python",
   "pygments_lexer": "ipython3",
   "version": "3.9.12"
  }
 },
 "nbformat": 4,
 "nbformat_minor": 5
}
