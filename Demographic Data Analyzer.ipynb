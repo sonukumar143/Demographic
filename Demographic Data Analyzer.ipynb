{
 "cells": [
  {
   "cell_type": "code",
   "execution_count": 1,
   "id": "83073e15",
   "metadata": {},
   "outputs": [],
   "source": [
    "def calculate_demographic_data():\n",
    "    race_count = df[\"race\"].value_counts()\n",
    "    average_age_men = df[df[\"sex\"] == \"Male\"][\"age\"].mean()\n",
    "    percentage_bachelors = (df[df[\"education\"] == \"Bachelors\"].shape[0] / df.shape[0]) * 100\n",
    "    \n",
    "    higher_education = df[df[\"education\"].isin([\"Bachelors\", \"Masters\", \"Doctorate\"])]\n",
    "    higher_education_rich = higher_education[higher_education[\"salary\"] == \">50K\"]\n",
    "    higher_education_rich_percentage = (higher_education_rich.shape[0] / higher_education.shape[0]) * 100\n",
    "\n",
    "    lower_education = df[~df[\"education\"].isin([\"Bachelors\", \"Masters\", \"Doctorate\"])]\n",
    "    lower_education_rich = lower_education[lower_education[\"salary\"] == \">50K\"]\n",
    "    lower_education_rich_percentage = (lower_education_rich.shape[0] / lower_education.shape[0]) * 100\n",
    "\n",
    "    min_work_hours = df[\"hours-per-week\"].min()\n",
    "    num_min_workers = df[df[\"hours-per-week\"] == min_work_hours]\n",
    "    rich_percentage = (num_min_workers[num_min_workers[\"salary\"] == \">50K\"].shape[0] / num_min_workers.shape[0]) * 100\n",
    "\n",
    "    countries = df[df[\"salary\"] == \">50K\"][\"native-country\"].value_counts()\n",
    "    total_by_country = df[\"native-country\"].value_counts()\n",
    "    highest_earning_country = (countries / total_by_country).idxmax()\n",
    "    highest_earning_country_percentage = (countries / total_by_country).max() * 100\n",
    "\n",
    "    india_high_earners = df[(df[\"native-country\"] == \"India\") & (df[\"salary\"] == \">50K\")]\n",
    "    top_IN_occupation = india_high_earners[\"occupation\"].value_counts().idxmax()\n",
    "\n",
    "    return {\n",
    "        \"race_count\": race_count,\n",
    "        \"average_age_men\": average_age_men,\n",
    "        \"percentage_bachelors\": percentage_bachelors,\n",
    "        \"higher_education_rich_percentage\": higher_education_rich_percentage,\n",
    "        \"lower_education_rich_percentage\": lower_education_rich_percentage,\n",
    "        \"min_work_hours\": min_work_hours,\n",
    "        \"rich_percentage\": rich_percentage,\n",
    "        \"highest_earning_country\": highest_earning_country,\n",
    "        \"highest_earning_country_percentage\": highest_earning_country_percentage,\n",
    "        \"top_IN_occupation\": top_IN_occupation\n",
    "    }\n"
   ]
  },
  {
   "cell_type": "code",
   "execution_count": null,
   "id": "e538884e",
   "metadata": {},
   "outputs": [],
   "source": []
  }
 ],
 "metadata": {
  "kernelspec": {
   "display_name": "Python 3 (ipykernel)",
   "language": "python",
   "name": "python3"
  },
  "language_info": {
   "codemirror_mode": {
    "name": "ipython",
    "version": 3
   },
   "file_extension": ".py",
   "mimetype": "text/x-python",
   "name": "python",
   "nbconvert_exporter": "python",
   "pygments_lexer": "ipython3",
   "version": "3.9.12"
  }
 },
 "nbformat": 4,
 "nbformat_minor": 5
}
